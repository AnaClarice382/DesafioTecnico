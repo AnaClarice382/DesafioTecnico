{
  "nbformat": 4,
  "nbformat_minor": 0,
  "metadata": {
    "colab": {
      "name": "desafio_tecnico_pt1.ipynb",
      "provenance": [],
      "collapsed_sections": [],
      "authorship_tag": "ABX9TyMd8yquYMgotbFfS2wbwcmR",
      "include_colab_link": true
    },
    "kernelspec": {
      "name": "python3",
      "display_name": "Python 3"
    }
  },
  "cells": [
    {
      "cell_type": "markdown",
      "metadata": {
        "id": "view-in-github",
        "colab_type": "text"
      },
      "source": [
        "<a href=\"https://colab.research.google.com/github/AnaClarice382/desafio_tecnico/blob/main/desafio_tecnico_pt1.ipynb\" target=\"_parent\"><img src=\"https://colab.research.google.com/assets/colab-badge.svg\" alt=\"Open In Colab\"/></a>"
      ]
    },
    {
      "cell_type": "markdown",
      "metadata": {
        "id": "uPHhRsxYTbYy"
      },
      "source": [
        "> Escreva uma função que retorna a união de dois arrays ordenados. O array resultante deve permanecer ordenado.\r\n",
        "\r\n",
        "Exemplo:\r\n",
        "<br>\r\n",
        "Entrada: Array A [5, 7, 8, 10, 15], Array B [2, 5, 7, 9, 12]\r\n",
        "Saída: Array C [2, 5, 7, 8, 9, 10, 12, 15]"
      ]
    },
    {
      "cell_type": "code",
      "metadata": {
        "colab": {
          "base_uri": "https://localhost:8080/"
        },
        "id": "zhidRrBf2KOg",
        "outputId": "081468dc-0d1e-4041-a257-956df3f381f3"
      },
      "source": [
        "a = [4, 7, 5, 2, 3, 20, 1]\r\n",
        "b = [3, 4, 8, 9, 2, 3, 20, 1, 3]\r\n",
        "\r\n",
        "def get_ordered_array(array_one, array_two=[]): \r\n",
        "    array = array_one + array_two\r\n",
        "\r\n",
        "    for index in range(len(array)): \r\n",
        "        smallest = index \r\n",
        "\r\n",
        "        for index_to_compare, item_to_compare in enumerate(\r\n",
        "                array[index::], index):\r\n",
        "           \r\n",
        "          if item_to_compare < array[smallest]: \r\n",
        "              smallest = index_to_compare\r\n",
        "\r\n",
        "        array[index], array[smallest] = (array[smallest], array[index]) \r\n",
        "        \r\n",
        "    return array;\r\n",
        "\r\n",
        "get_ordered_array(a,b)"
      ],
      "execution_count": 194,
      "outputs": [
        {
          "output_type": "execute_result",
          "data": {
            "text/plain": [
              "[1, 1, 2, 2, 3, 3, 3, 3, 4, 4, 5, 7, 8, 9, 20, 20]"
            ]
          },
          "metadata": {
            "tags": []
          },
          "execution_count": 194
        }
      ]
    },
    {
      "cell_type": "markdown",
      "metadata": {
        "id": "n7H0w5M3Th8o"
      },
      "source": [
        ">Dado um array A e um número N, retorne True se existem números X e Y no array tal que X + Y = N. Caso contrário, retorne False.\r\n",
        "\r\n",
        "\r\n",
        "Exemplo:\r\n",
        "<br>\r\n",
        "   Entrada: [1, 2, 4, 7],\r\n",
        "Saída: True (2 + 7 = 9)\r\n",
        "<br>\r\n",
        "Entrada: [3, 4, 6], 6\r\n",
        "Saída: False (3 + 4 = 7, 3 + 6 = 9, 4 + 6 = 10)\r\n",
        "\r\n"
      ]
    },
    {
      "cell_type": "code",
      "metadata": {
        "id": "V1Jj7mNDTXWf",
        "colab": {
          "base_uri": "https://localhost:8080/"
        },
        "outputId": "713ce721-3c36-4ff5-b3ea-ea017dbb93cc"
      },
      "source": [
        "A = [3,4,6,7]\r\n",
        "num = 6\r\n",
        "\r\n",
        "def there_is_number(array, num):\r\n",
        "  there_is_num = False;\r\n",
        "\r\n",
        "  for i in range(len(array) - 1):\r\n",
        "    current_item = array[i]\r\n",
        "    \r\n",
        "    for j in range(len(array) - 1):\r\n",
        "      next_item = array[j + 1]\r\n",
        "      sum = current_item + next_item\r\n",
        "\r\n",
        "      if (sum == num):\r\n",
        "        return True;\r\n",
        "\r\n",
        "    current_index = (array.index(current_item) + 1) \r\n",
        "\r\n",
        "  return False;\r\n",
        "\r\n",
        "print(bool_number(A, num));"
      ],
      "execution_count": 182,
      "outputs": [
        {
          "output_type": "stream",
          "text": [
            "False\n"
          ],
          "name": "stdout"
        }
      ]
    },
    {
      "cell_type": "markdown",
      "metadata": {
        "id": "67xqSHaiTrqR"
      },
      "source": [
        ">Dado um array A, retorne os números que mais aparecem no array e suas respectivas contagens.\r\n",
        "Em caso de empate, é permitido retornar qualquer um dos números empatados.\r\n",
        "\r\n",
        "Exemplo:\r\n",
        "Entrada: [1, 5, 7, 2, 1, 4, 7, 8, 15, 0, 9, 1, 1, 7, 4]\r\n",
        "Saída:\r\n",
        "1 -> (4 vezes)\r\n",
        "7 -> (3 vezes)\r\n",
        "4 -> (2 vezes)"
      ]
    },
    {
      "cell_type": "code",
      "metadata": {
        "id": "S1-UxPHTTvdn",
        "colab": {
          "base_uri": "https://localhost:8080/"
        },
        "outputId": "9f231819-0d84-4618-f220-6d62c0c20009"
      },
      "source": [
        "A = [1, 5, 7, 2, 1, 4, 7, 8, 15, 0, 9, 1, 1, 7, 4]\r\n",
        "\r\n",
        "def count_numbers(array):\r\n",
        "  dict_output = {};\r\n",
        "\r\n",
        "  for i in range(len(array) - 1):    \r\n",
        "    if array[i] in dict_output:\r\n",
        "      dict_output[array[i]] += 1\r\n",
        "    elif array[i] not in dict_output:\r\n",
        "      dict_output[array[i]] = 1\r\n",
        "      \r\n",
        "  #Como não foi especificado o limite de números que mais aparecem\r\n",
        "  #Coloquei para retornar dois com maior número de contagem\r\n",
        "  dict_output = sorted(dict_output.items(), key=lambda item: item[1]);\r\n",
        "  return dict_output[-2:]\r\n",
        "\r\n",
        "print(count_numbers(A));"
      ],
      "execution_count": 193,
      "outputs": [
        {
          "output_type": "stream",
          "text": [
            "[(7, 3), (1, 4)]\n"
          ],
          "name": "stdout"
        }
      ]
    },
    {
      "cell_type": "markdown",
      "metadata": {
        "id": "s9vL8UhOTujB"
      },
      "source": [
        "> Dado um array A, retorne o menor número que não está presente. Caso não houver, retorno o maior número + 1.\r\n",
        "\r\n",
        "Exemplo:\r\n",
        "<br>\r\n",
        "Entrada: [1, 7, 5, 2, 3, 20, 4]\r\n",
        "Saída: 6 (números não presentes na sequência de 1 a 20: 6, 8, 9, ..., 19)\r\n",
        "<br>\r\n",
        "Entrada: [8, 5, 7, 1, 2, 4, 6]\r\n",
        "Saída: 3\r\n",
        "<br>\r\n",
        "Entrada: [3, 5, 2, 1, 4, 6, 7]\r\n",
        "Saída: 8"
      ]
    },
    {
      "cell_type": "code",
      "metadata": {
        "id": "cA2XeBApTwFY",
        "colab": {
          "base_uri": "https://localhost:8080/"
        },
        "outputId": "9ba759d7-e6a2-4b54-ef3f-f17008ecbc64"
      },
      "source": [
        "A = [1, 7, 5, 2, 3, 20, 4]\r\n",
        "\r\n",
        "def get_missing_numbers(array):\r\n",
        "  list_output = [];\r\n",
        "\r\n",
        "  array = get_ordered_array(array)\r\n",
        "  \r\n",
        "  for i in range(len(array)):\r\n",
        "    next = array[i] + 1\r\n",
        "    if (next not in array):\r\n",
        "      return next   \r\n",
        "      \r\n",
        "print(get_missing_numbers(A));"
      ],
      "execution_count": 192,
      "outputs": [
        {
          "output_type": "stream",
          "text": [
            "6\n"
          ],
          "name": "stdout"
        }
      ]
    },
    {
      "cell_type": "code",
      "metadata": {
        "id": "LhFJ7UrdOJDT"
      },
      "source": [
        ""
      ],
      "execution_count": null,
      "outputs": []
    }
  ]
}